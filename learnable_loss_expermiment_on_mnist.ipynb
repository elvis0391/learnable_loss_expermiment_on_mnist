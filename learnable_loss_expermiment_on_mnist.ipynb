{
  "nbformat": 4,
  "nbformat_minor": 0,
  "metadata": {
    "colab": {
      "provenance": [],
      "collapsed_sections": []
    },
    "kernelspec": {
      "name": "python3",
      "display_name": "Python 3"
    },
    "language_info": {
      "name": "python"
    },
    "accelerator": "GPU",
    "gpuClass": "standard"
  },
  "cells": [
    {
      "cell_type": "code",
      "execution_count": null,
      "metadata": {
        "colab": {
          "base_uri": "https://localhost:8080/",
          "height": 905
        },
        "id": "NcYfSu4BgNAl",
        "outputId": "f3da1cf4-10d5-4043-cbb7-b1204854df3d"
      },
      "outputs": [
        {
          "output_type": "stream",
          "name": "stdout",
          "text": [
            "[[[804, 512], [1, 512]], [[512, 512], [1, 512]], [[512, 512], [1, 512]], [[512, 1]]]\n",
            "[[411648, 512], [262144, 512], [262144, 512], [512]]\n"
          ]
        },
        {
          "output_type": "stream",
          "name": "stderr",
          "text": [
            "/usr/local/lib/python3.7/dist-packages/ipykernel_launcher.py:293: VisibleDeprecationWarning: Creating an ndarray from ragged nested sequences (which is a list-or-tuple of lists-or-tuples-or ndarrays with different lengths or shapes) is deprecated. If you meant to do this, you must specify 'dtype=object' when creating the ndarray.\n"
          ]
        },
        {
          "output_type": "stream",
          "name": "stdout",
          "text": [
            "base model gradient : 5.817194e-06 14.408426\n",
            "0\n",
            "base model gradient : 5.730024e-06 14.610413\n",
            "40\n",
            "base model gradient : 5.7555635e-06 14.409171\n",
            "80\n",
            "base model gradient : 5.8921833e-06 14.130967\n",
            "120\n",
            "base model gradient : 6.1352885e-06 14.02834\n",
            "160\n",
            "base model gradient : 6.029804e-06 13.602246\n",
            "200\n",
            "base model gradient : 5.9530994e-06 13.193501\n",
            "240\n",
            "base model gradient : 6.0549414e-06 13.145917\n",
            "280\n",
            "base model gradient : 6.0412494e-06 12.83768\n",
            "320\n",
            "base model gradient : 6.0132024e-06 12.621718\n",
            "360\n",
            "base model gradient : 5.957429e-06 12.45994\n",
            "400\n",
            "base model gradient : 5.888697e-06 12.332604\n",
            "440\n",
            "base model gradient : 5.8163223e-06 12.21859\n",
            "480\n"
          ]
        },
        {
          "output_type": "error",
          "ename": "KeyboardInterrupt",
          "evalue": "ignored",
          "traceback": [
            "\u001b[0;31m---------------------------------------------------------------------------\u001b[0m",
            "\u001b[0;31mKeyboardInterrupt\u001b[0m                         Traceback (most recent call last)",
            "\u001b[0;32m<ipython-input-11-370d412c2178>\u001b[0m in \u001b[0;36m<module>\u001b[0;34m()\u001b[0m\n\u001b[1;32m    395\u001b[0m             \u001b[0;31m# L_L = classical_loss(Y,f_m(w-convert_to_unit_vector(G_LL)*0.08*((1-epoch/epochs)**2),X))\u001b[0m\u001b[0;34m\u001b[0m\u001b[0;34m\u001b[0m\u001b[0;34m\u001b[0m\u001b[0m\n\u001b[1;32m    396\u001b[0m             \u001b[0mlearning_rate\u001b[0m \u001b[0;34m=\u001b[0m \u001b[0;36m0.01\u001b[0m\u001b[0;34m*\u001b[0m\u001b[0;34m(\u001b[0m\u001b[0;36m0.9996\u001b[0m\u001b[0;34m**\u001b[0m\u001b[0mepoch\u001b[0m\u001b[0;34m)\u001b[0m\u001b[0;31m#((1-epoch/epochs)**3)\u001b[0m\u001b[0;34m\u001b[0m\u001b[0;34m\u001b[0m\u001b[0m\n\u001b[0;32m--> 397\u001b[0;31m             \u001b[0mL_L\u001b[0m \u001b[0;34m=\u001b[0m \u001b[0mclassical_loss\u001b[0m\u001b[0;34m(\u001b[0m\u001b[0mY\u001b[0m\u001b[0;34m,\u001b[0m\u001b[0mf_m\u001b[0m\u001b[0;34m(\u001b[0m\u001b[0mw\u001b[0m\u001b[0;34m-\u001b[0m\u001b[0mconvert_to_unit_vector\u001b[0m\u001b[0;34m(\u001b[0m\u001b[0mG_LL\u001b[0m\u001b[0;34m)\u001b[0m\u001b[0;34m*\u001b[0m\u001b[0mlearning_rate\u001b[0m\u001b[0;34m,\u001b[0m\u001b[0mX\u001b[0m\u001b[0;34m)\u001b[0m\u001b[0;34m)\u001b[0m\u001b[0;34m\u001b[0m\u001b[0;34m\u001b[0m\u001b[0m\n\u001b[0m\u001b[1;32m    398\u001b[0m             \u001b[0mG_LML\u001b[0m \u001b[0;34m=\u001b[0m \u001b[0mg\u001b[0m\u001b[0;34m.\u001b[0m\u001b[0mgradient\u001b[0m\u001b[0;34m(\u001b[0m\u001b[0mL_L\u001b[0m\u001b[0;34m,\u001b[0m\u001b[0mtheta\u001b[0m\u001b[0;34m)\u001b[0m\u001b[0;34m\u001b[0m\u001b[0;34m\u001b[0m\u001b[0m\n\u001b[1;32m    399\u001b[0m             \u001b[0;31m# G_LML = tf.clip_by_value(G_LML,-clip_value,clip_value)\u001b[0m\u001b[0;34m\u001b[0m\u001b[0;34m\u001b[0m\u001b[0;34m\u001b[0m\u001b[0m\n",
            "\u001b[0;32m<ipython-input-11-370d412c2178>\u001b[0m in \u001b[0;36mclassical_loss\u001b[0;34m(Y, y_m)\u001b[0m\n\u001b[1;32m     62\u001b[0m     \u001b[0mcce\u001b[0m \u001b[0;34m=\u001b[0m \u001b[0mtf\u001b[0m\u001b[0;34m.\u001b[0m\u001b[0mkeras\u001b[0m\u001b[0;34m.\u001b[0m\u001b[0mlosses\u001b[0m\u001b[0;34m.\u001b[0m\u001b[0mCategoricalCrossentropy\u001b[0m\u001b[0;34m(\u001b[0m\u001b[0;34m)\u001b[0m\u001b[0;34m\u001b[0m\u001b[0;34m\u001b[0m\u001b[0m\n\u001b[1;32m     63\u001b[0m \u001b[0;31m# cce(y_true, y_pred).numpy()\u001b[0m\u001b[0;34m\u001b[0m\u001b[0;34m\u001b[0m\u001b[0;34m\u001b[0m\u001b[0m\n\u001b[0;32m---> 64\u001b[0;31m     \u001b[0;32mreturn\u001b[0m \u001b[0mcce\u001b[0m\u001b[0;34m(\u001b[0m\u001b[0mY\u001b[0m\u001b[0;34m,\u001b[0m \u001b[0my_m\u001b[0m\u001b[0;34m)\u001b[0m\u001b[0;34m\u001b[0m\u001b[0;34m\u001b[0m\u001b[0m\n\u001b[0m\u001b[1;32m     65\u001b[0m \u001b[0;34m\u001b[0m\u001b[0m\n\u001b[1;32m     66\u001b[0m '''\n",
            "\u001b[0;32m/usr/local/lib/python3.7/dist-packages/keras/losses.py\u001b[0m in \u001b[0;36m__call__\u001b[0;34m(self, y_true, y_pred, sample_weight)\u001b[0m\n\u001b[1;32m    141\u001b[0m       \u001b[0mlosses\u001b[0m \u001b[0;34m=\u001b[0m \u001b[0mcall_fn\u001b[0m\u001b[0;34m(\u001b[0m\u001b[0my_true\u001b[0m\u001b[0;34m,\u001b[0m \u001b[0my_pred\u001b[0m\u001b[0;34m)\u001b[0m\u001b[0;34m\u001b[0m\u001b[0;34m\u001b[0m\u001b[0m\n\u001b[1;32m    142\u001b[0m       return losses_utils.compute_weighted_loss(\n\u001b[0;32m--> 143\u001b[0;31m           losses, sample_weight, reduction=self._get_reduction())\n\u001b[0m\u001b[1;32m    144\u001b[0m \u001b[0;34m\u001b[0m\u001b[0m\n\u001b[1;32m    145\u001b[0m   \u001b[0;34m@\u001b[0m\u001b[0mclassmethod\u001b[0m\u001b[0;34m\u001b[0m\u001b[0;34m\u001b[0m\u001b[0m\n",
            "\u001b[0;32m/usr/local/lib/python3.7/dist-packages/keras/utils/losses_utils.py\u001b[0m in \u001b[0;36mcompute_weighted_loss\u001b[0;34m(losses, sample_weight, reduction, name)\u001b[0m\n\u001b[1;32m    324\u001b[0m \u001b[0;34m\u001b[0m\u001b[0m\n\u001b[1;32m    325\u001b[0m     \u001b[0;31m# Apply reduction function to the individual weighted losses.\u001b[0m\u001b[0;34m\u001b[0m\u001b[0;34m\u001b[0m\u001b[0;34m\u001b[0m\u001b[0m\n\u001b[0;32m--> 326\u001b[0;31m     \u001b[0mloss\u001b[0m \u001b[0;34m=\u001b[0m \u001b[0mreduce_weighted_loss\u001b[0m\u001b[0;34m(\u001b[0m\u001b[0mweighted_losses\u001b[0m\u001b[0;34m,\u001b[0m \u001b[0mreduction\u001b[0m\u001b[0;34m)\u001b[0m\u001b[0;34m\u001b[0m\u001b[0;34m\u001b[0m\u001b[0m\n\u001b[0m\u001b[1;32m    327\u001b[0m     \u001b[0;31m# Convert the result back to the input type.\u001b[0m\u001b[0;34m\u001b[0m\u001b[0;34m\u001b[0m\u001b[0;34m\u001b[0m\u001b[0m\n\u001b[1;32m    328\u001b[0m     \u001b[0mloss\u001b[0m \u001b[0;34m=\u001b[0m \u001b[0mtf\u001b[0m\u001b[0;34m.\u001b[0m\u001b[0mcast\u001b[0m\u001b[0;34m(\u001b[0m\u001b[0mloss\u001b[0m\u001b[0;34m,\u001b[0m \u001b[0minput_dtype\u001b[0m\u001b[0;34m)\u001b[0m\u001b[0;34m\u001b[0m\u001b[0;34m\u001b[0m\u001b[0m\n",
            "\u001b[0;32m/usr/local/lib/python3.7/dist-packages/keras/utils/losses_utils.py\u001b[0m in \u001b[0;36mreduce_weighted_loss\u001b[0;34m(weighted_losses, reduction)\u001b[0m\n\u001b[1;32m    266\u001b[0m     \u001b[0mloss\u001b[0m \u001b[0;34m=\u001b[0m \u001b[0mtf\u001b[0m\u001b[0;34m.\u001b[0m\u001b[0mreduce_sum\u001b[0m\u001b[0;34m(\u001b[0m\u001b[0mweighted_losses\u001b[0m\u001b[0;34m)\u001b[0m\u001b[0;34m\u001b[0m\u001b[0;34m\u001b[0m\u001b[0m\n\u001b[1;32m    267\u001b[0m     \u001b[0;32mif\u001b[0m \u001b[0mreduction\u001b[0m \u001b[0;34m==\u001b[0m \u001b[0mReductionV2\u001b[0m\u001b[0;34m.\u001b[0m\u001b[0mSUM_OVER_BATCH_SIZE\u001b[0m\u001b[0;34m:\u001b[0m\u001b[0;34m\u001b[0m\u001b[0;34m\u001b[0m\u001b[0m\n\u001b[0;32m--> 268\u001b[0;31m       \u001b[0mloss\u001b[0m \u001b[0;34m=\u001b[0m \u001b[0m_safe_mean\u001b[0m\u001b[0;34m(\u001b[0m\u001b[0mloss\u001b[0m\u001b[0;34m,\u001b[0m \u001b[0m_num_elements\u001b[0m\u001b[0;34m(\u001b[0m\u001b[0mweighted_losses\u001b[0m\u001b[0;34m)\u001b[0m\u001b[0;34m)\u001b[0m\u001b[0;34m\u001b[0m\u001b[0;34m\u001b[0m\u001b[0m\n\u001b[0m\u001b[1;32m    269\u001b[0m   \u001b[0;32mreturn\u001b[0m \u001b[0mloss\u001b[0m\u001b[0;34m\u001b[0m\u001b[0;34m\u001b[0m\u001b[0m\n\u001b[1;32m    270\u001b[0m \u001b[0;34m\u001b[0m\u001b[0m\n",
            "\u001b[0;32m/usr/local/lib/python3.7/dist-packages/keras/utils/losses_utils.py\u001b[0m in \u001b[0;36m_num_elements\u001b[0;34m(losses)\u001b[0m\n\u001b[1;32m    255\u001b[0m   \u001b[0;34m\"\"\"Computes the number of elements in `losses` tensor.\"\"\"\u001b[0m\u001b[0;34m\u001b[0m\u001b[0;34m\u001b[0m\u001b[0m\n\u001b[1;32m    256\u001b[0m   \u001b[0;32mwith\u001b[0m \u001b[0mbackend\u001b[0m\u001b[0;34m.\u001b[0m\u001b[0mname_scope\u001b[0m\u001b[0;34m(\u001b[0m\u001b[0;34m'num_elements'\u001b[0m\u001b[0;34m)\u001b[0m \u001b[0;32mas\u001b[0m \u001b[0mscope\u001b[0m\u001b[0;34m:\u001b[0m\u001b[0;34m\u001b[0m\u001b[0;34m\u001b[0m\u001b[0m\n\u001b[0;32m--> 257\u001b[0;31m     \u001b[0;32mreturn\u001b[0m \u001b[0mtf\u001b[0m\u001b[0;34m.\u001b[0m\u001b[0mcast\u001b[0m\u001b[0;34m(\u001b[0m\u001b[0mtf\u001b[0m\u001b[0;34m.\u001b[0m\u001b[0msize\u001b[0m\u001b[0;34m(\u001b[0m\u001b[0mlosses\u001b[0m\u001b[0;34m,\u001b[0m \u001b[0mname\u001b[0m\u001b[0;34m=\u001b[0m\u001b[0mscope\u001b[0m\u001b[0;34m)\u001b[0m\u001b[0;34m,\u001b[0m \u001b[0mdtype\u001b[0m\u001b[0;34m=\u001b[0m\u001b[0mlosses\u001b[0m\u001b[0;34m.\u001b[0m\u001b[0mdtype\u001b[0m\u001b[0;34m)\u001b[0m\u001b[0;34m\u001b[0m\u001b[0;34m\u001b[0m\u001b[0m\n\u001b[0m\u001b[1;32m    258\u001b[0m \u001b[0;34m\u001b[0m\u001b[0m\n\u001b[1;32m    259\u001b[0m \u001b[0;34m\u001b[0m\u001b[0m\n",
            "\u001b[0;32m/usr/local/lib/python3.7/dist-packages/tensorflow/python/util/traceback_utils.py\u001b[0m in \u001b[0;36merror_handler\u001b[0;34m(*args, **kwargs)\u001b[0m\n\u001b[1;32m    148\u001b[0m     \u001b[0mfiltered_tb\u001b[0m \u001b[0;34m=\u001b[0m \u001b[0;32mNone\u001b[0m\u001b[0;34m\u001b[0m\u001b[0;34m\u001b[0m\u001b[0m\n\u001b[1;32m    149\u001b[0m     \u001b[0;32mtry\u001b[0m\u001b[0;34m:\u001b[0m\u001b[0;34m\u001b[0m\u001b[0;34m\u001b[0m\u001b[0m\n\u001b[0;32m--> 150\u001b[0;31m       \u001b[0;32mreturn\u001b[0m \u001b[0mfn\u001b[0m\u001b[0;34m(\u001b[0m\u001b[0;34m*\u001b[0m\u001b[0margs\u001b[0m\u001b[0;34m,\u001b[0m \u001b[0;34m**\u001b[0m\u001b[0mkwargs\u001b[0m\u001b[0;34m)\u001b[0m\u001b[0;34m\u001b[0m\u001b[0;34m\u001b[0m\u001b[0m\n\u001b[0m\u001b[1;32m    151\u001b[0m     \u001b[0;32mexcept\u001b[0m \u001b[0mException\u001b[0m \u001b[0;32mas\u001b[0m \u001b[0me\u001b[0m\u001b[0;34m:\u001b[0m\u001b[0;34m\u001b[0m\u001b[0;34m\u001b[0m\u001b[0m\n\u001b[1;32m    152\u001b[0m       \u001b[0mfiltered_tb\u001b[0m \u001b[0;34m=\u001b[0m \u001b[0m_process_traceback_frames\u001b[0m\u001b[0;34m(\u001b[0m\u001b[0me\u001b[0m\u001b[0;34m.\u001b[0m\u001b[0m__traceback__\u001b[0m\u001b[0;34m)\u001b[0m\u001b[0;34m\u001b[0m\u001b[0;34m\u001b[0m\u001b[0m\n",
            "\u001b[0;32m/usr/local/lib/python3.7/dist-packages/tensorflow/python/util/dispatch.py\u001b[0m in \u001b[0;36mop_dispatch_handler\u001b[0;34m(*args, **kwargs)\u001b[0m\n\u001b[1;32m   1080\u001b[0m       \u001b[0;31m# Fallback dispatch system (dispatch v1):\u001b[0m\u001b[0;34m\u001b[0m\u001b[0;34m\u001b[0m\u001b[0;34m\u001b[0m\u001b[0m\n\u001b[1;32m   1081\u001b[0m       \u001b[0;32mtry\u001b[0m\u001b[0;34m:\u001b[0m\u001b[0;34m\u001b[0m\u001b[0;34m\u001b[0m\u001b[0m\n\u001b[0;32m-> 1082\u001b[0;31m         \u001b[0;32mreturn\u001b[0m \u001b[0mdispatch_target\u001b[0m\u001b[0;34m(\u001b[0m\u001b[0;34m*\u001b[0m\u001b[0margs\u001b[0m\u001b[0;34m,\u001b[0m \u001b[0;34m**\u001b[0m\u001b[0mkwargs\u001b[0m\u001b[0;34m)\u001b[0m\u001b[0;34m\u001b[0m\u001b[0;34m\u001b[0m\u001b[0m\n\u001b[0m\u001b[1;32m   1083\u001b[0m       \u001b[0;32mexcept\u001b[0m \u001b[0;34m(\u001b[0m\u001b[0mTypeError\u001b[0m\u001b[0;34m,\u001b[0m \u001b[0mValueError\u001b[0m\u001b[0;34m)\u001b[0m\u001b[0;34m:\u001b[0m\u001b[0;34m\u001b[0m\u001b[0;34m\u001b[0m\u001b[0m\n\u001b[1;32m   1084\u001b[0m         \u001b[0;31m# Note: convert_to_eager_tensor currently raises a ValueError, not a\u001b[0m\u001b[0;34m\u001b[0m\u001b[0;34m\u001b[0m\u001b[0;34m\u001b[0m\u001b[0m\n",
            "\u001b[0;32m/usr/local/lib/python3.7/dist-packages/tensorflow/python/ops/math_ops.py\u001b[0m in \u001b[0;36mcast\u001b[0;34m(x, dtype, name)\u001b[0m\n\u001b[1;32m   1000\u001b[0m       \u001b[0mx\u001b[0m \u001b[0;34m=\u001b[0m \u001b[0mops\u001b[0m\u001b[0;34m.\u001b[0m\u001b[0mconvert_to_tensor\u001b[0m\u001b[0;34m(\u001b[0m\u001b[0mx\u001b[0m\u001b[0;34m,\u001b[0m \u001b[0mname\u001b[0m\u001b[0;34m=\u001b[0m\u001b[0;34m\"x\"\u001b[0m\u001b[0;34m)\u001b[0m\u001b[0;34m\u001b[0m\u001b[0;34m\u001b[0m\u001b[0m\n\u001b[1;32m   1001\u001b[0m       \u001b[0;32mif\u001b[0m \u001b[0mx\u001b[0m\u001b[0;34m.\u001b[0m\u001b[0mdtype\u001b[0m\u001b[0;34m.\u001b[0m\u001b[0mbase_dtype\u001b[0m \u001b[0;34m!=\u001b[0m \u001b[0mbase_type\u001b[0m\u001b[0;34m:\u001b[0m\u001b[0;34m\u001b[0m\u001b[0;34m\u001b[0m\u001b[0m\n\u001b[0;32m-> 1002\u001b[0;31m         \u001b[0mx\u001b[0m \u001b[0;34m=\u001b[0m \u001b[0mgen_math_ops\u001b[0m\u001b[0;34m.\u001b[0m\u001b[0mcast\u001b[0m\u001b[0;34m(\u001b[0m\u001b[0mx\u001b[0m\u001b[0;34m,\u001b[0m \u001b[0mbase_type\u001b[0m\u001b[0;34m,\u001b[0m \u001b[0mname\u001b[0m\u001b[0;34m=\u001b[0m\u001b[0mname\u001b[0m\u001b[0;34m)\u001b[0m\u001b[0;34m\u001b[0m\u001b[0;34m\u001b[0m\u001b[0m\n\u001b[0m\u001b[1;32m   1003\u001b[0m     \u001b[0;32mif\u001b[0m \u001b[0mx\u001b[0m\u001b[0;34m.\u001b[0m\u001b[0mdtype\u001b[0m\u001b[0;34m.\u001b[0m\u001b[0mis_complex\u001b[0m \u001b[0;32mand\u001b[0m \u001b[0mbase_type\u001b[0m\u001b[0;34m.\u001b[0m\u001b[0mis_floating\u001b[0m\u001b[0;34m:\u001b[0m\u001b[0;34m\u001b[0m\u001b[0;34m\u001b[0m\u001b[0m\n\u001b[1;32m   1004\u001b[0m       \u001b[0mlogging\u001b[0m\u001b[0;34m.\u001b[0m\u001b[0mwarn\u001b[0m\u001b[0;34m(\u001b[0m\u001b[0;34m\"Casting complex to real discards imaginary part.\"\u001b[0m\u001b[0;34m)\u001b[0m\u001b[0;34m\u001b[0m\u001b[0;34m\u001b[0m\u001b[0m\n",
            "\u001b[0;32m/usr/local/lib/python3.7/dist-packages/tensorflow/python/ops/gen_math_ops.py\u001b[0m in \u001b[0;36mcast\u001b[0;34m(x, DstT, Truncate, name)\u001b[0m\n\u001b[1;32m   1996\u001b[0m     \u001b[0;32mtry\u001b[0m\u001b[0;34m:\u001b[0m\u001b[0;34m\u001b[0m\u001b[0;34m\u001b[0m\u001b[0m\n\u001b[1;32m   1997\u001b[0m       _result = pywrap_tfe.TFE_Py_FastPathExecute(\n\u001b[0;32m-> 1998\u001b[0;31m         _ctx, \"Cast\", name, x, \"DstT\", DstT, \"Truncate\", Truncate)\n\u001b[0m\u001b[1;32m   1999\u001b[0m       \u001b[0;32mreturn\u001b[0m \u001b[0m_result\u001b[0m\u001b[0;34m\u001b[0m\u001b[0;34m\u001b[0m\u001b[0m\n\u001b[1;32m   2000\u001b[0m     \u001b[0;32mexcept\u001b[0m \u001b[0m_core\u001b[0m\u001b[0;34m.\u001b[0m\u001b[0m_NotOkStatusException\u001b[0m \u001b[0;32mas\u001b[0m \u001b[0me\u001b[0m\u001b[0;34m:\u001b[0m\u001b[0;34m\u001b[0m\u001b[0;34m\u001b[0m\u001b[0m\n",
            "\u001b[0;31mKeyboardInterrupt\u001b[0m: "
          ]
        }
      ],
      "source": [
        "import tensorflow as tf\n",
        "import numpy as np\n",
        "import matplotlib.pyplot as plt\n",
        "from tensorflow import keras\n",
        "\n",
        "base_model_no_of_neurons = 512\n",
        "loss_model_no_of_neurons = 512\n",
        "\n",
        "def f_m(w,X):\n",
        "    start = 0\n",
        "    end = base_model_block_length[0][0]\n",
        "    layer_1_weights = tf.reshape(w[:end],base_model_shape[0][0])\n",
        "\n",
        "    start = end\n",
        "    end = end + base_model_block_length[0][1]\n",
        "    layer_1_bias = tf.reshape(w[start:end],base_model_shape[0][1])\n",
        "\n",
        "    start = end\n",
        "    end = end + base_model_block_length[1][0]\n",
        "    layer_2_weights = tf.reshape(w[start:end],base_model_shape[1][0])\n",
        "\n",
        "    start = end\n",
        "    end += base_model_block_length[1][1]\n",
        "    layer_2_bias = tf.reshape(w[start:end],base_model_shape[1][1])\n",
        "\n",
        "    start = end\n",
        "    end = end + base_model_block_length[2][0]\n",
        "    layer_3_weights = tf.reshape(w[start:end],base_model_shape[2][0])\n",
        "\n",
        "    start = end\n",
        "    end = end + base_model_block_length[2][1]\n",
        "\n",
        "    layer_3_bias = tf.reshape(w[start:end],base_model_shape[2][1])\n",
        "\n",
        "    start = end\n",
        "    end = end + base_model_block_length[3][0]\n",
        "    layer_4_weights = tf.reshape(w[start:end],base_model_shape[3][0])\n",
        "\n",
        "    start = end\n",
        "    end = end + base_model_block_length[3][1]\n",
        "    layer_4_bias = tf.reshape(w[start:end],base_model_shape[3][1])\n",
        "  \n",
        "\n",
        "    inputs = X\n",
        "\n",
        "    # feed to neural network\n",
        "    output_1 = tf.tanh(tf.matmul(inputs,layer_1_weights) + layer_1_bias)\n",
        "    \n",
        "\n",
        "    output_2 = tf.tanh(tf.matmul(output_1,layer_2_weights) + layer_2_bias)\n",
        "    \n",
        "\n",
        "    output_3 = tf.tanh(tf.matmul(output_2,layer_3_weights) + layer_3_bias)\n",
        "    output = tf.matmul(output_3,layer_4_weights) + layer_4_bias\n",
        "    output = tf.nn.softmax(output)\n",
        "\n",
        "    return output\n",
        "\n",
        "\n",
        "\n",
        "def classical_loss(Y,y_m):\n",
        "    cce = tf.keras.losses.CategoricalCrossentropy()\n",
        "\n",
        "    return cce(Y, y_m)\n",
        "\n",
        "'''\n",
        "with tf.GradientTape() as g:\n",
        "      g.watch(theta)\n",
        "      with tf.GradientTape() as gg:\n",
        "          gg.watch(w)\n",
        "          y_m = f_m(w,X)\n",
        "          y_L = learnable_loss(theta,y_m,X,Y)\n",
        "          G_LL = gg.gradient(y_L,w)\n",
        "          # print(G_LL.shape)\n",
        "          # print('loss model gradient :',tf.reduce_mean(tf.abs(G_LL)).numpy())\n",
        "          L_L = classical_loss(Y,f_m(w-G_LL,X))\n",
        "          G_LML = g.gradient(L_L,theta)\n",
        "          G_LML = tf.clip_by_value(G_LML,-clip_value,clip_value)\n",
        "          alpha = loss_model_meta_gradient_descent(classical_loss,f_m,theta,G_LML,X,Y)\n",
        "          theta = theta - G_LML*0.01#alpha\n",
        "'''\n",
        "\n",
        "# def cost(new_theta,weights,model,X,Y):\n",
        "#     # print(new_theta.shape,weights.shape)\n",
        "#     with tf.GradientTape() as g:\n",
        "#         g.watch(new_theta)\n",
        "#         with tf.GradientTape() as gg:\n",
        "#             gg.watch(weights)\n",
        "\n",
        "#             y_m = model(weights,X)\n",
        "#             y_L = learnable_loss(new_theta,y_m,X,Y)\n",
        "#             G_LL = gg.gradient(y_L,w)\n",
        "\n",
        "#             L_L = classical_loss(Y,f_m(w-G_LL,X))\n",
        "#     return L_L\n",
        "\n",
        "# def loss_model_meta_gradient_descent(model,weights,gradients,X,Y,theta,iterations=2):\n",
        "#     alpha= tf.Variable(0.0001)\n",
        "#     for _ in range(iterations):\n",
        "#         with tf.GradientTape() as tape:\n",
        "#             tape.watch(alpha)\n",
        "#             alpha_loss = cost(theta - gradients*alpha,weights,model,X,Y)\n",
        "#             G_alpha = tape.gradient(alpha_loss,alpha)\n",
        "#             alpha = alpha - 0.001*G_alpha\n",
        "#     return alpha\n",
        "\n",
        "\n",
        "  \n",
        "def convert_to_unit_vector(x):\n",
        "  # assert len(x.shape) == 1\n",
        "  length = tf.sqrt(tf.reduce_sum(tf.square(x)))\n",
        "  return x/length\n",
        "\n",
        "def convert_to_unit_vector_list(x,c):\n",
        "  length = tf.constant(0.0,dtype=tf.float32)\n",
        "  for i in x:\n",
        "    for j in i:\n",
        "      length += tf.reduce_sum(tf.square(j))\n",
        "  length = tf.sqrt(length)\n",
        "  \n",
        "  for i in range(4):\n",
        "    for j in range(2):\n",
        "      x[i][j] = x[i][j]/length*c\n",
        "  return x\n",
        "\n",
        "def list_sub_2d(w,x):\n",
        "  for i in range(4):\n",
        "    for j in range(2):\n",
        "      w[i][j] = w[i][j]-x[i][j]\n",
        "\n",
        "  return w\n",
        "\n",
        "def list_mul_c(w,c):\n",
        "  x = w.copy()\n",
        "  for i in range(4):\n",
        "    for j in range(2):\n",
        "      x[i][j] = w[i][j] * c\n",
        "  return x\n",
        "\n",
        "\n",
        "\n",
        "\n",
        "\n",
        "\n",
        "\n",
        "def learnable_loss(theta,y_m,X,Y):\n",
        "    # inputs = tf.constant([y_m,X,Y])#.reshape(-1)\n",
        "    # inputs = tf.expand_dims(inputs,axis=0)\n",
        "    # inputs = tf.cast([[y_m,X,Y]],tf.float64)\n",
        "    \n",
        "    start = 0\n",
        "    end = loss_model_block_length[0][0]\n",
        "    layer_1_weights = tf.reshape(theta[:end],loss_model_shape[0][0])\n",
        "\n",
        "    start = end\n",
        "    end = end + loss_model_block_length[0][1]\n",
        "    layer_1_bias = tf.reshape(theta[start:end],loss_model_shape[0][1])\n",
        "\n",
        "    start = end\n",
        "    end = end + loss_model_block_length[1][0]\n",
        "    layer_2_weights = tf.reshape(theta[start:end],loss_model_shape[1][0])\n",
        "\n",
        "    start = end\n",
        "    end += loss_model_block_length[1][1]\n",
        "    layer_2_bias = tf.reshape(theta[start:end],loss_model_shape[1][1])\n",
        "\n",
        "    start = end\n",
        "    end = end + loss_model_block_length[2][0]\n",
        "    layer_3_weights = tf.reshape(theta[start:end],loss_model_shape[2][0])\n",
        "\n",
        "    start = end\n",
        "    end = end + loss_model_block_length[2][1]\n",
        "\n",
        "    layer_3_bias = tf.reshape(theta[start:end],loss_model_shape[2][1])\n",
        "\n",
        "    start = end\n",
        "    end = end + loss_model_block_length[3][0]\n",
        "    layer_4_weights = tf.reshape(theta[start:end],loss_model_shape[3][0])\n",
        "\n",
        "\n",
        "\n",
        "   \n",
        "    #generate noise\n",
        "    # noise = tf.constant(np.random.normal(0,0.1,size=(len(y_m),noise_size)),dtype=tf.float32)\n",
        "    # inputs = tf.concat([y_m,X,Y,noise], axis=1)\n",
        "    inputs = tf.concat([y_m,X,Y], axis=1)\n",
        "    \n",
        "    \n",
        "\n",
        "    output_1 = tf.tanh(tf.matmul(inputs,layer_1_weights) + layer_1_bias)\n",
        "\n",
        "    output_2 = tf.tanh(tf.matmul(output_1,layer_2_weights) + layer_2_bias)\n",
        "\n",
        "\n",
        "    output_3 = tf.tanh(tf.matmul(output_2,layer_3_weights) + layer_3_bias)\n",
        "    output = tf.matmul(output_3,layer_4_weights)\n",
        "    return output\n",
        "\n",
        "    \n",
        "\n",
        "\n",
        "\n",
        "def loss_model_loss(Y,w,G_LL,X):\n",
        "    return classical_loss(Y,f_m(w-G_LL,X))\n",
        "\n",
        "output_size = 10\n",
        "\n",
        "# #define weights\n",
        "noise_size = 0\n",
        "loss_model_shape = [[[784+10+10+noise_size,loss_model_no_of_neurons],[1,loss_model_no_of_neurons]],\n",
        "                   [[loss_model_no_of_neurons,loss_model_no_of_neurons],[1,loss_model_no_of_neurons]],\n",
        "                   [[loss_model_no_of_neurons,loss_model_no_of_neurons],[1,loss_model_no_of_neurons]],\n",
        "                   [[loss_model_no_of_neurons,1]]\n",
        "                   ]\n",
        "\n",
        "\n",
        "\n",
        "base_model_shape = [[[784,base_model_no_of_neurons],[1,base_model_no_of_neurons]],\n",
        "                   [[base_model_no_of_neurons,base_model_no_of_neurons],[1,base_model_no_of_neurons]],\n",
        "                   [[base_model_no_of_neurons,base_model_no_of_neurons],[1,base_model_no_of_neurons]],\n",
        "                   [[base_model_no_of_neurons,10],[1,10]],\n",
        "                   ]\n",
        "\n",
        "def get_length(shape):\n",
        "  length = 0\n",
        "  for i in shape:\n",
        "    for j in i:\n",
        "      length = length+ np.prod(j)\n",
        "  return length\n",
        "\n",
        "def get_legnth_of_each_variable(shape):\n",
        "  lenght = shape\n",
        "  for i in range(len(shape)):\n",
        "    for j in range(len(shape[i])):\n",
        "      lenght[i][j] = np.prod(shape[i][j])\n",
        "  return lenght\n",
        "\n",
        "print(loss_model_shape)\n",
        "\n",
        "loss_model_length = get_length(loss_model_shape)\n",
        "base_model_length = get_length(base_model_shape)\n",
        "\n",
        "loss_model_block_length = np.array(get_legnth_of_each_variable(loss_model_shape))\n",
        "base_model_block_length = np.array(get_legnth_of_each_variable(base_model_shape))\n",
        "\n",
        "\n",
        "print(loss_model_shape)\n",
        "\n",
        "loss_model_shape = [[[784+10+10+noise_size,loss_model_no_of_neurons],[1,loss_model_no_of_neurons]],\n",
        "                   [[loss_model_no_of_neurons,loss_model_no_of_neurons],[1,loss_model_no_of_neurons]],\n",
        "                   [[loss_model_no_of_neurons,loss_model_no_of_neurons],[1,loss_model_no_of_neurons]],\n",
        "                   [[loss_model_no_of_neurons,1]]\n",
        "                   ]\n",
        "\n",
        "\n",
        "\n",
        "base_model_shape = [[[784,base_model_no_of_neurons],[1,base_model_no_of_neurons]],\n",
        "                   [[base_model_no_of_neurons,base_model_no_of_neurons],[1,base_model_no_of_neurons]],\n",
        "                   [[base_model_no_of_neurons,base_model_no_of_neurons],[1,base_model_no_of_neurons]],\n",
        "                   [[base_model_no_of_neurons,10],[1,10]],\n",
        "                   ]\n",
        "\n",
        "\n",
        "\n",
        "\n",
        "theta = tf.constant(np.random.normal(0,0.2,size=(loss_model_length)),dtype=tf.float32)#[layer_1_paras,layer_2_paras,layer_3_paras,layer_4_paras]\n",
        "w = tf.constant(np.random.normal(0,0.2,size=(base_model_length)),dtype=tf.float32)\n",
        "\n",
        "x_inputs = np.arange(10000)/1000\n",
        "(x_train, y_train), (x_test, y_test) = keras.datasets.mnist.load_data()\n",
        "x_train = x_train.astype('float32') / 255\n",
        "x_test = x_test.astype('float32') / 255\n",
        "num_classes = 10\n",
        "# convert class vectors to binary class matrices\n",
        "y_train = keras.utils.to_categorical(y_train, num_classes)\n",
        "y_test = keras.utils.to_categorical(y_test, num_classes)\n",
        "\n",
        "X = tf.constant(np.reshape(x_train,(len(x_train),-1)),dtype=tf.float32)\n",
        "Y = tf.constant(np.reshape(y_train,(len(x_train),-1)),dtype=tf.float32)\n",
        "\n",
        "x_test = np.reshape(x_test,(len(x_test),-1))\n",
        "\n",
        "\n",
        "\n",
        "\n",
        "\n",
        "y_m = f_m(w,X)\n",
        "\n",
        "\n",
        "dropout_rate = 0.2\n",
        "\n",
        "loss_hist = []\n",
        "\n",
        "learnable_loss_hist = []\n",
        "\n",
        "loss_model_loss_hist = []\n",
        "theta_hist = []\n",
        "w_hist = []\n",
        "clip_value = 0.1\n",
        "epochs = 10000\n",
        "for epoch in range(epochs):\n",
        "  #update loss model\n",
        "  for _ in range(1):\n",
        "    with tf.GradientTape() as g:\n",
        "        g.watch(theta)\n",
        "        with tf.GradientTape() as gg:\n",
        "            gg.watch(w)\n",
        "            y_m = f_m(w,X)\n",
        "            y_L = learnable_loss(theta,y_m,X,Y)\n",
        "            G_LL = gg.gradient(y_L,w)\n",
        "\n",
        "            learning_rate = 0.01*(0.9996**epoch)\n",
        "            L_L = classical_loss(Y,f_m(w-convert_to_unit_vector(G_LL)*learning_rate,X))\n",
        "            G_LML = g.gradient(L_L,theta)\n",
        "            \n",
        "            theta = theta - G_LML * 0.01 \n",
        "        \n",
        "\n",
        "  # update base model\n",
        "  for _ in range(1):\n",
        "    with tf.GradientTape() as g:\n",
        "        g.watch(w)\n",
        "        y_m = f_m(w,X)\n",
        "        y_L = learnable_loss(theta,y_m,X,Y)\n",
        "        d_L_L_d_w = g.gradient(y_L,w)\n",
        "        d_L_L_d_w = convert_to_unit_vector(d_L_L_d_w)*learning_rate\n",
        "        \n",
        "        w = w - d_L_L_d_w\n",
        "\n",
        "\n",
        "  predict = f_m(w,X)\n",
        "  loss = classical_loss(predict,Y).numpy()\n",
        "  \n",
        "  loss_hist = loss_hist + [loss]\n",
        "  learnable_loss_hist = learnable_loss_hist + [y_L[0][0].numpy()]\n",
        "\n",
        "  if epoch % 20 == 0:\n",
        "    print('base model gradient :',tf.reduce_mean(tf.abs(d_L_L_d_w)).numpy(),loss)\n",
        "    print(epoch)\n",
        "\n",
        "plt.style.use('default')\n",
        "plt.plot(loss_hist)\n",
        "plt.show()\n",
        "print('')#100000"
      ]
    },
    {
      "cell_type": "code",
      "source": [
        "!nvidia-smi"
      ],
      "metadata": {
        "colab": {
          "base_uri": "https://localhost:8080/"
        },
        "id": "UqHq9ft8uQj8",
        "outputId": "4bd777db-954d-4e22-d922-da88f7082a01"
      },
      "execution_count": null,
      "outputs": [
        {
          "output_type": "stream",
          "name": "stdout",
          "text": [
            "Sat Jul  2 16:24:44 2022       \n",
            "+-----------------------------------------------------------------------------+\n",
            "| NVIDIA-SMI 460.32.03    Driver Version: 460.32.03    CUDA Version: 11.2     |\n",
            "|-------------------------------+----------------------+----------------------+\n",
            "| GPU  Name        Persistence-M| Bus-Id        Disp.A | Volatile Uncorr. ECC |\n",
            "| Fan  Temp  Perf  Pwr:Usage/Cap|         Memory-Usage | GPU-Util  Compute M. |\n",
            "|                               |                      |               MIG M. |\n",
            "|===============================+======================+======================|\n",
            "|   0  Tesla T4            Off  | 00000000:00:04.0 Off |                    0 |\n",
            "| N/A   50C    P8    11W /  70W |      0MiB / 15109MiB |      0%      Default |\n",
            "|                               |                      |                  N/A |\n",
            "+-------------------------------+----------------------+----------------------+\n",
            "                                                                               \n",
            "+-----------------------------------------------------------------------------+\n",
            "| Processes:                                                                  |\n",
            "|  GPU   GI   CI        PID   Type   Process name                  GPU Memory |\n",
            "|        ID   ID                                                   Usage      |\n",
            "|=============================================================================|\n",
            "|  No running processes found                                                 |\n",
            "+-----------------------------------------------------------------------------+\n"
          ]
        }
      ]
    },
    {
      "cell_type": "code",
      "source": [
        "for epoch in range(epochs):\n",
        "  #update loss model\n",
        "  for _ in range(1):\n",
        "    with tf.GradientTape() as g:\n",
        "        g.watch(theta)\n",
        "        with tf.GradientTape() as gg:\n",
        "            gg.watch(w)\n",
        "            y_m = f_m(w,X)\n",
        "            y_L = learnable_loss(theta,y_m,X,Y)\n",
        "            G_LL = gg.gradient(y_L,w)\n",
        "            learning_rate = 0.2*(0.9997**epoch)\n",
        "            L_L = classical_loss(Y,f_m(w-convert_to_unit_vector(G_LL)*learning_rate,X))\n",
        "            G_LML = g.gradient(L_L,theta)\n",
        "\n",
        "            theta = theta - G_LML * 0.002\n",
        "\n",
        "  # update base model\n",
        "  for _ in range(1):\n",
        "    with tf.GradientTape() as g:\n",
        "        g.watch(w)\n",
        "        y_m = f_m(w,X)\n",
        "        y_L = learnable_loss(theta,y_m,X,Y)\n",
        "        d_L_L_d_w = g.gradient(y_L,w)\n",
        "        d_L_L_d_w = convert_to_unit_vector(d_L_L_d_w)*learning_rate\n",
        "\n",
        "        w = w - d_L_L_d_w\n",
        "\n",
        "\n",
        "  predict = f_m(w,X)\n",
        "  loss = classical_loss(predict,Y).numpy()\n",
        "  \n",
        "  loss_hist = loss_hist + [loss]\n",
        "  learnable_loss_hist = learnable_loss_hist + [y_L[0][0].numpy()]\n",
        "  # theta_hist = theta_hist + [theta.numpy()]\n",
        "  # w_hist = w_hist + [w.numpy()]\n",
        "  if epoch % 40 == 0:\n",
        "    print('base model gradient :',tf.reduce_mean(tf.abs(d_L_L_d_w)).numpy(),loss)\n",
        "    print(epoch)"
      ],
      "metadata": {
        "colab": {
          "base_uri": "https://localhost:8080/"
        },
        "id": "QQrKmfFCpeA4",
        "outputId": "27fb02b8-0ee6-4147-ae4a-2d4c243cd02b"
      },
      "execution_count": null,
      "outputs": [
        {
          "output_type": "stream",
          "name": "stdout",
          "text": [
            "base model gradient : 6.836845e-05 7.729572\n",
            "0\n",
            "base model gradient : 7.0074806e-05 7.952018\n",
            "40\n",
            "base model gradient : 7.052959e-05 7.874528\n",
            "80\n",
            "base model gradient : 6.85273e-05 7.873821\n",
            "120\n",
            "base model gradient : 6.790769e-05 7.910337\n",
            "160\n",
            "base model gradient : 6.8801244e-05 7.9942203\n",
            "200\n",
            "base model gradient : 6.729259e-05 7.931674\n",
            "240\n",
            "base model gradient : 6.632919e-05 7.890647\n",
            "280\n",
            "base model gradient : 6.725562e-05 7.8722486\n",
            "320\n",
            "base model gradient : 6.2796316e-05 7.815073\n",
            "360\n",
            "base model gradient : 6.385647e-05 7.7823825\n",
            "400\n",
            "base model gradient : 6.199603e-05 7.8062124\n",
            "440\n",
            "base model gradient : 6.243393e-05 7.8013806\n",
            "480\n",
            "base model gradient : 6.2544386e-05 7.84295\n",
            "520\n",
            "base model gradient : 5.999081e-05 7.776735\n",
            "560\n",
            "base model gradient : 5.9905244e-05 7.724025\n",
            "600\n",
            "base model gradient : 5.8976395e-05 7.6860514\n",
            "640\n",
            "base model gradient : 5.8914047e-05 7.676273\n",
            "680\n",
            "base model gradient : 5.6453453e-05 7.5969267\n",
            "720\n",
            "base model gradient : 5.7475314e-05 7.546373\n",
            "760\n",
            "base model gradient : 5.51204e-05 7.51543\n",
            "800\n",
            "base model gradient : 5.4114134e-05 7.508997\n",
            "840\n",
            "base model gradient : 5.2800304e-05 7.4494286\n",
            "880\n",
            "base model gradient : 5.2386633e-05 7.344844\n",
            "920\n",
            "base model gradient : 5.2534077e-05 7.2589517\n",
            "960\n",
            "base model gradient : 5.0237813e-05 7.2088447\n",
            "1000\n",
            "base model gradient : 5.1066305e-05 7.180727\n",
            "1040\n",
            "base model gradient : 5.0310085e-05 7.0997124\n",
            "1080\n"
          ]
        }
      ]
    },
    {
      "cell_type": "code",
      "source": [
        "for epoch in range(epochs):\n",
        "  #update loss model\n",
        "  for _ in range(1):\n",
        "    with tf.GradientTape() as g:\n",
        "        g.watch(theta)\n",
        "        with tf.GradientTape() as gg:\n",
        "            gg.watch(w)\n",
        "            y_m = f_m(w,X)\n",
        "            y_L = learnable_loss(theta,y_m,X,Y)\n",
        "            G_LL = gg.gradient(y_L,w)\n",
        "\n",
        "            learning_rate = 0.2*(0.9997**epoch)\n",
        "            L_L = classical_loss(Y,f_m(w-convert_to_unit_vector(G_LL)*learning_rate,X))\n",
        "            G_LML = g.gradient(L_L,theta)\n",
        "\n",
        "            theta = theta - G_LML * 0.0015 \n",
        "\n",
        "  # update base model\n",
        "  for _ in range(1):\n",
        "    with tf.GradientTape() as g:\n",
        "        g.watch(w)\n",
        "        y_m = f_m(w,X)\n",
        "        y_L = learnable_loss(theta,y_m,X,Y)\n",
        "        d_L_L_d_w = g.gradient(y_L,w)\n",
        "        d_L_L_d_w = convert_to_unit_vector(d_L_L_d_w)*learning_rate\n",
        "        \n",
        "        w = w - d_L_L_d_w\n",
        "\n",
        "\n",
        "  predict = f_m(w,X)\n",
        "  loss = classical_loss(predict,Y).numpy()\n",
        "  \n",
        "  loss_hist = loss_hist + [loss]\n",
        "  learnable_loss_hist = learnable_loss_hist + [y_L[0][0].numpy()]\n",
        "\n",
        "  if epoch % 40 == 0:\n",
        "    print('base model gradient :',tf.reduce_mean(tf.abs(d_L_L_d_w)).numpy(),loss)\n",
        "    print(epoch)"
      ],
      "metadata": {
        "colab": {
          "base_uri": "https://localhost:8080/",
          "height": 1000
        },
        "id": "-kVorIxPRDKa",
        "outputId": "64112716-ab65-4919-a90a-6d5900596408"
      },
      "execution_count": null,
      "outputs": [
        {
          "output_type": "stream",
          "name": "stdout",
          "text": [
            "base model gradient : 7.043262e-05 7.1737366\n",
            "0\n",
            "base model gradient : 7.113414e-05 7.3067217\n",
            "40\n",
            "base model gradient : 6.939932e-05 7.2942457\n",
            "80\n",
            "base model gradient : 6.87098e-05 7.337238\n",
            "120\n",
            "base model gradient : 6.679449e-05 7.2486887\n",
            "160\n",
            "base model gradient : 6.4343425e-05 7.2325816\n",
            "200\n",
            "base model gradient : 6.575032e-05 7.271123\n",
            "240\n",
            "base model gradient : 6.587844e-05 7.226826\n",
            "280\n",
            "base model gradient : 6.245363e-05 7.173407\n",
            "320\n",
            "base model gradient : 6.431328e-05 7.015031\n",
            "360\n",
            "base model gradient : 6.118773e-05 6.9767876\n",
            "400\n",
            "base model gradient : 6.0801864e-05 6.9203687\n",
            "440\n",
            "base model gradient : 6.0066886e-05 6.7739506\n",
            "480\n",
            "base model gradient : 6.0165934e-05 6.80225\n",
            "520\n",
            "base model gradient : 5.618187e-05 6.7316303\n",
            "560\n",
            "base model gradient : 5.944668e-05 6.6868033\n",
            "600\n",
            "base model gradient : 5.7042544e-05 6.59184\n",
            "640\n",
            "base model gradient : 5.5777982e-05 6.507649\n",
            "680\n",
            "base model gradient : 5.50399e-05 6.4902325\n",
            "720\n",
            "base model gradient : 5.5423257e-05 6.524796\n",
            "760\n",
            "base model gradient : 5.4100656e-05 6.483004\n",
            "800\n",
            "base model gradient : 5.3179083e-05 6.4885\n",
            "840\n",
            "base model gradient : 5.1337323e-05 6.4540257\n",
            "880\n",
            "base model gradient : 5.1602816e-05 6.423202\n",
            "920\n"
          ]
        },
        {
          "output_type": "error",
          "ename": "KeyboardInterrupt",
          "evalue": "ignored",
          "traceback": [
            "\u001b[0;31m---------------------------------------------------------------------------\u001b[0m",
            "\u001b[0;31mKeyboardInterrupt\u001b[0m                         Traceback (most recent call last)",
            "\u001b[0;32m<ipython-input-6-05d50b4a8826>\u001b[0m in \u001b[0;36m<module>\u001b[0;34m()\u001b[0m\n\u001b[1;32m     13\u001b[0m             \u001b[0;31m# L_L = classical_loss(Y,f_m(w-convert_to_unit_vector(G_LL)*0.08*((1-epoch/epochs)**2),X))\u001b[0m\u001b[0;34m\u001b[0m\u001b[0;34m\u001b[0m\u001b[0;34m\u001b[0m\u001b[0m\n\u001b[1;32m     14\u001b[0m             \u001b[0mlearning_rate\u001b[0m \u001b[0;34m=\u001b[0m \u001b[0;36m0.2\u001b[0m\u001b[0;34m*\u001b[0m\u001b[0;34m(\u001b[0m\u001b[0;36m0.9997\u001b[0m\u001b[0;34m**\u001b[0m\u001b[0mepoch\u001b[0m\u001b[0;34m)\u001b[0m\u001b[0;31m#((1-epoch/epochs)**3)\u001b[0m\u001b[0;34m\u001b[0m\u001b[0;34m\u001b[0m\u001b[0m\n\u001b[0;32m---> 15\u001b[0;31m             \u001b[0mL_L\u001b[0m \u001b[0;34m=\u001b[0m \u001b[0mclassical_loss\u001b[0m\u001b[0;34m(\u001b[0m\u001b[0mY\u001b[0m\u001b[0;34m,\u001b[0m\u001b[0mf_m\u001b[0m\u001b[0;34m(\u001b[0m\u001b[0mw\u001b[0m\u001b[0;34m-\u001b[0m\u001b[0mconvert_to_unit_vector\u001b[0m\u001b[0;34m(\u001b[0m\u001b[0mG_LL\u001b[0m\u001b[0;34m)\u001b[0m\u001b[0;34m*\u001b[0m\u001b[0mlearning_rate\u001b[0m\u001b[0;34m,\u001b[0m\u001b[0mX\u001b[0m\u001b[0;34m)\u001b[0m\u001b[0;34m)\u001b[0m\u001b[0;34m\u001b[0m\u001b[0;34m\u001b[0m\u001b[0m\n\u001b[0m\u001b[1;32m     16\u001b[0m             \u001b[0mG_LML\u001b[0m \u001b[0;34m=\u001b[0m \u001b[0mg\u001b[0m\u001b[0;34m.\u001b[0m\u001b[0mgradient\u001b[0m\u001b[0;34m(\u001b[0m\u001b[0mL_L\u001b[0m\u001b[0;34m,\u001b[0m\u001b[0mtheta\u001b[0m\u001b[0;34m)\u001b[0m\u001b[0;34m\u001b[0m\u001b[0;34m\u001b[0m\u001b[0m\n\u001b[1;32m     17\u001b[0m             \u001b[0;31m# G_LML = tf.clip_by_value(G_LML,-clip_value,clip_value)\u001b[0m\u001b[0;34m\u001b[0m\u001b[0;34m\u001b[0m\u001b[0;34m\u001b[0m\u001b[0m\n",
            "\u001b[0;32m/usr/local/lib/python3.7/dist-packages/tensorflow/python/util/traceback_utils.py\u001b[0m in \u001b[0;36merror_handler\u001b[0;34m(*args, **kwargs)\u001b[0m\n\u001b[1;32m    148\u001b[0m     \u001b[0mfiltered_tb\u001b[0m \u001b[0;34m=\u001b[0m \u001b[0;32mNone\u001b[0m\u001b[0;34m\u001b[0m\u001b[0;34m\u001b[0m\u001b[0m\n\u001b[1;32m    149\u001b[0m     \u001b[0;32mtry\u001b[0m\u001b[0;34m:\u001b[0m\u001b[0;34m\u001b[0m\u001b[0;34m\u001b[0m\u001b[0m\n\u001b[0;32m--> 150\u001b[0;31m       \u001b[0;32mreturn\u001b[0m \u001b[0mfn\u001b[0m\u001b[0;34m(\u001b[0m\u001b[0;34m*\u001b[0m\u001b[0margs\u001b[0m\u001b[0;34m,\u001b[0m \u001b[0;34m**\u001b[0m\u001b[0mkwargs\u001b[0m\u001b[0;34m)\u001b[0m\u001b[0;34m\u001b[0m\u001b[0;34m\u001b[0m\u001b[0m\n\u001b[0m\u001b[1;32m    151\u001b[0m     \u001b[0;32mexcept\u001b[0m \u001b[0mException\u001b[0m \u001b[0;32mas\u001b[0m \u001b[0me\u001b[0m\u001b[0;34m:\u001b[0m\u001b[0;34m\u001b[0m\u001b[0;34m\u001b[0m\u001b[0m\n\u001b[1;32m    152\u001b[0m       \u001b[0mfiltered_tb\u001b[0m \u001b[0;34m=\u001b[0m \u001b[0m_process_traceback_frames\u001b[0m\u001b[0;34m(\u001b[0m\u001b[0me\u001b[0m\u001b[0;34m.\u001b[0m\u001b[0m__traceback__\u001b[0m\u001b[0;34m)\u001b[0m\u001b[0;34m\u001b[0m\u001b[0;34m\u001b[0m\u001b[0m\n",
            "\u001b[0;32m/usr/local/lib/python3.7/dist-packages/tensorflow/python/ops/math_ops.py\u001b[0m in \u001b[0;36mbinary_op_wrapper\u001b[0;34m(x, y)\u001b[0m\n\u001b[1;32m   1404\u001b[0m         \u001b[0;31m#   r_binary_op_wrapper use different force_same_dtype values.\u001b[0m\u001b[0;34m\u001b[0m\u001b[0;34m\u001b[0m\u001b[0;34m\u001b[0m\u001b[0m\n\u001b[1;32m   1405\u001b[0m         \u001b[0mx\u001b[0m\u001b[0;34m,\u001b[0m \u001b[0my\u001b[0m \u001b[0;34m=\u001b[0m \u001b[0mmaybe_promote_tensors\u001b[0m\u001b[0;34m(\u001b[0m\u001b[0mx\u001b[0m\u001b[0;34m,\u001b[0m \u001b[0my\u001b[0m\u001b[0;34m)\u001b[0m\u001b[0;34m\u001b[0m\u001b[0;34m\u001b[0m\u001b[0m\n\u001b[0;32m-> 1406\u001b[0;31m         \u001b[0;32mreturn\u001b[0m \u001b[0mfunc\u001b[0m\u001b[0;34m(\u001b[0m\u001b[0mx\u001b[0m\u001b[0;34m,\u001b[0m \u001b[0my\u001b[0m\u001b[0;34m,\u001b[0m \u001b[0mname\u001b[0m\u001b[0;34m=\u001b[0m\u001b[0mname\u001b[0m\u001b[0;34m)\u001b[0m\u001b[0;34m\u001b[0m\u001b[0;34m\u001b[0m\u001b[0m\n\u001b[0m\u001b[1;32m   1407\u001b[0m       \u001b[0;32mexcept\u001b[0m \u001b[0;34m(\u001b[0m\u001b[0mTypeError\u001b[0m\u001b[0;34m,\u001b[0m \u001b[0mValueError\u001b[0m\u001b[0;34m)\u001b[0m \u001b[0;32mas\u001b[0m \u001b[0me\u001b[0m\u001b[0;34m:\u001b[0m\u001b[0;34m\u001b[0m\u001b[0;34m\u001b[0m\u001b[0m\n\u001b[1;32m   1408\u001b[0m         \u001b[0;31m# Even if dispatching the op failed, the RHS may be a tensor aware\u001b[0m\u001b[0;34m\u001b[0m\u001b[0;34m\u001b[0m\u001b[0;34m\u001b[0m\u001b[0m\n",
            "\u001b[0;32m/usr/local/lib/python3.7/dist-packages/tensorflow/python/ops/math_ops.py\u001b[0m in \u001b[0;36m_mul_dispatch\u001b[0;34m(x, y, name)\u001b[0m\n\u001b[1;32m   1764\u001b[0m     \u001b[0;32mreturn\u001b[0m \u001b[0msparse_tensor\u001b[0m\u001b[0;34m.\u001b[0m\u001b[0mSparseTensor\u001b[0m\u001b[0;34m(\u001b[0m\u001b[0my\u001b[0m\u001b[0;34m.\u001b[0m\u001b[0mindices\u001b[0m\u001b[0;34m,\u001b[0m \u001b[0mnew_vals\u001b[0m\u001b[0;34m,\u001b[0m \u001b[0my\u001b[0m\u001b[0;34m.\u001b[0m\u001b[0mdense_shape\u001b[0m\u001b[0;34m)\u001b[0m\u001b[0;34m\u001b[0m\u001b[0;34m\u001b[0m\u001b[0m\n\u001b[1;32m   1765\u001b[0m   \u001b[0;32melse\u001b[0m\u001b[0;34m:\u001b[0m\u001b[0;34m\u001b[0m\u001b[0;34m\u001b[0m\u001b[0m\n\u001b[0;32m-> 1766\u001b[0;31m     \u001b[0;32mreturn\u001b[0m \u001b[0mmultiply\u001b[0m\u001b[0;34m(\u001b[0m\u001b[0mx\u001b[0m\u001b[0;34m,\u001b[0m \u001b[0my\u001b[0m\u001b[0;34m,\u001b[0m \u001b[0mname\u001b[0m\u001b[0;34m=\u001b[0m\u001b[0mname\u001b[0m\u001b[0;34m)\u001b[0m\u001b[0;34m\u001b[0m\u001b[0;34m\u001b[0m\u001b[0m\n\u001b[0m\u001b[1;32m   1767\u001b[0m \u001b[0;34m\u001b[0m\u001b[0m\n\u001b[1;32m   1768\u001b[0m \u001b[0;34m\u001b[0m\u001b[0m\n",
            "\u001b[0;32m/usr/local/lib/python3.7/dist-packages/tensorflow/python/util/traceback_utils.py\u001b[0m in \u001b[0;36merror_handler\u001b[0;34m(*args, **kwargs)\u001b[0m\n\u001b[1;32m    148\u001b[0m     \u001b[0mfiltered_tb\u001b[0m \u001b[0;34m=\u001b[0m \u001b[0;32mNone\u001b[0m\u001b[0;34m\u001b[0m\u001b[0;34m\u001b[0m\u001b[0m\n\u001b[1;32m    149\u001b[0m     \u001b[0;32mtry\u001b[0m\u001b[0;34m:\u001b[0m\u001b[0;34m\u001b[0m\u001b[0;34m\u001b[0m\u001b[0m\n\u001b[0;32m--> 150\u001b[0;31m       \u001b[0;32mreturn\u001b[0m \u001b[0mfn\u001b[0m\u001b[0;34m(\u001b[0m\u001b[0;34m*\u001b[0m\u001b[0margs\u001b[0m\u001b[0;34m,\u001b[0m \u001b[0;34m**\u001b[0m\u001b[0mkwargs\u001b[0m\u001b[0;34m)\u001b[0m\u001b[0;34m\u001b[0m\u001b[0;34m\u001b[0m\u001b[0m\n\u001b[0m\u001b[1;32m    151\u001b[0m     \u001b[0;32mexcept\u001b[0m \u001b[0mException\u001b[0m \u001b[0;32mas\u001b[0m \u001b[0me\u001b[0m\u001b[0;34m:\u001b[0m\u001b[0;34m\u001b[0m\u001b[0;34m\u001b[0m\u001b[0m\n\u001b[1;32m    152\u001b[0m       \u001b[0mfiltered_tb\u001b[0m \u001b[0;34m=\u001b[0m \u001b[0m_process_traceback_frames\u001b[0m\u001b[0;34m(\u001b[0m\u001b[0me\u001b[0m\u001b[0;34m.\u001b[0m\u001b[0m__traceback__\u001b[0m\u001b[0;34m)\u001b[0m\u001b[0;34m\u001b[0m\u001b[0;34m\u001b[0m\u001b[0m\n",
            "\u001b[0;32m/usr/local/lib/python3.7/dist-packages/tensorflow/python/util/dispatch.py\u001b[0m in \u001b[0;36mop_dispatch_handler\u001b[0;34m(*args, **kwargs)\u001b[0m\n\u001b[1;32m   1080\u001b[0m       \u001b[0;31m# Fallback dispatch system (dispatch v1):\u001b[0m\u001b[0;34m\u001b[0m\u001b[0;34m\u001b[0m\u001b[0;34m\u001b[0m\u001b[0m\n\u001b[1;32m   1081\u001b[0m       \u001b[0;32mtry\u001b[0m\u001b[0;34m:\u001b[0m\u001b[0;34m\u001b[0m\u001b[0;34m\u001b[0m\u001b[0m\n\u001b[0;32m-> 1082\u001b[0;31m         \u001b[0;32mreturn\u001b[0m \u001b[0mdispatch_target\u001b[0m\u001b[0;34m(\u001b[0m\u001b[0;34m*\u001b[0m\u001b[0margs\u001b[0m\u001b[0;34m,\u001b[0m \u001b[0;34m**\u001b[0m\u001b[0mkwargs\u001b[0m\u001b[0;34m)\u001b[0m\u001b[0;34m\u001b[0m\u001b[0;34m\u001b[0m\u001b[0m\n\u001b[0m\u001b[1;32m   1083\u001b[0m       \u001b[0;32mexcept\u001b[0m \u001b[0;34m(\u001b[0m\u001b[0mTypeError\u001b[0m\u001b[0;34m,\u001b[0m \u001b[0mValueError\u001b[0m\u001b[0;34m)\u001b[0m\u001b[0;34m:\u001b[0m\u001b[0;34m\u001b[0m\u001b[0;34m\u001b[0m\u001b[0m\n\u001b[1;32m   1084\u001b[0m         \u001b[0;31m# Note: convert_to_eager_tensor currently raises a ValueError, not a\u001b[0m\u001b[0;34m\u001b[0m\u001b[0;34m\u001b[0m\u001b[0;34m\u001b[0m\u001b[0m\n",
            "\u001b[0;32m/usr/local/lib/python3.7/dist-packages/tensorflow/python/ops/math_ops.py\u001b[0m in \u001b[0;36mmultiply\u001b[0;34m(x, y, name)\u001b[0m\n\u001b[1;32m    527\u001b[0m   \"\"\"\n\u001b[1;32m    528\u001b[0m \u001b[0;34m\u001b[0m\u001b[0m\n\u001b[0;32m--> 529\u001b[0;31m   \u001b[0;32mreturn\u001b[0m \u001b[0mgen_math_ops\u001b[0m\u001b[0;34m.\u001b[0m\u001b[0mmul\u001b[0m\u001b[0;34m(\u001b[0m\u001b[0mx\u001b[0m\u001b[0;34m,\u001b[0m \u001b[0my\u001b[0m\u001b[0;34m,\u001b[0m \u001b[0mname\u001b[0m\u001b[0;34m)\u001b[0m\u001b[0;34m\u001b[0m\u001b[0;34m\u001b[0m\u001b[0m\n\u001b[0m\u001b[1;32m    530\u001b[0m \u001b[0;34m\u001b[0m\u001b[0m\n\u001b[1;32m    531\u001b[0m \u001b[0;34m\u001b[0m\u001b[0m\n",
            "\u001b[0;32m/usr/local/lib/python3.7/dist-packages/tensorflow/python/ops/gen_math_ops.py\u001b[0m in \u001b[0;36mmul\u001b[0;34m(x, y, name)\u001b[0m\n\u001b[1;32m   6575\u001b[0m     \u001b[0;32mtry\u001b[0m\u001b[0;34m:\u001b[0m\u001b[0;34m\u001b[0m\u001b[0;34m\u001b[0m\u001b[0m\n\u001b[1;32m   6576\u001b[0m       _result = pywrap_tfe.TFE_Py_FastPathExecute(\n\u001b[0;32m-> 6577\u001b[0;31m         _ctx, \"Mul\", name, x, y)\n\u001b[0m\u001b[1;32m   6578\u001b[0m       \u001b[0;32mreturn\u001b[0m \u001b[0m_result\u001b[0m\u001b[0;34m\u001b[0m\u001b[0;34m\u001b[0m\u001b[0m\n\u001b[1;32m   6579\u001b[0m     \u001b[0;32mexcept\u001b[0m \u001b[0m_core\u001b[0m\u001b[0;34m.\u001b[0m\u001b[0m_NotOkStatusException\u001b[0m \u001b[0;32mas\u001b[0m \u001b[0me\u001b[0m\u001b[0;34m:\u001b[0m\u001b[0;34m\u001b[0m\u001b[0;34m\u001b[0m\u001b[0m\n",
            "\u001b[0;31mKeyboardInterrupt\u001b[0m: "
          ]
        }
      ]
    },
    {
      "cell_type": "code",
      "source": [
        "plt.plot(learnable_loss_hist)\n",
        "plt.show()"
      ],
      "metadata": {
        "colab": {
          "base_uri": "https://localhost:8080/",
          "height": 430
        },
        "id": "e9hkS_2CRegC",
        "outputId": "a5745857-229d-4c60-ce8d-45b0554fb81f"
      },
      "execution_count": null,
      "outputs": [
        {
          "output_type": "display_data",
          "data": {
            "text/plain": [
              "<Figure size 640x480 with 1 Axes>"
            ],
            "image/png": "[encoded data removed]"
          },
          "metadata": {}
        }
      ]
    },
    {
      "cell_type": "code",
      "source": [
        "(1-epoch/epochs)**2"
      ],
      "metadata": {
        "colab": {
          "base_uri": "https://localhost:8080/"
        },
        "id": "dTgM2Bb5Jbhn",
        "outputId": "84021412-b741-4ed5-d083-e39017b40265"
      },
      "execution_count": null,
      "outputs": [
        {
          "output_type": "execute_result",
          "data": {
            "text/plain": [
              "0.6709248099999999"
            ]
          },
          "metadata": {},
          "execution_count": 121
        }
      ]
    },
    {
      "cell_type": "code",
      "source": [
        "plt.style.use('default')\n",
        "plt.plot(loss_hist)\n",
        "plt.show()"
      ],
      "metadata": {
        "colab": {
          "base_uri": "https://localhost:8080/",
          "height": 430
        },
        "id": "1GaWvpJl_0mO",
        "outputId": "5fd27d47-52ef-4067-8b9e-19012be853d3"
      },
      "execution_count": null,
      "outputs": [
        {
          "output_type": "display_data",
          "data": {
            "text/plain": [
              "<Figure size 640x480 with 1 Axes>"
            ],
            "image/png": "[encoded data removed]"
          },
          "metadata": {}
        }
      ]
    },
    {
      "cell_type": "code",
      "source": [
        "x_test = np.reshape(x_test,(len(x_test),-1)).astype(np.float32)\n",
        "predict = np.argmax(f_m(w,x_test),axis=1)\n",
        "np.sum(predict==np.argmax(y_test,axis=1))/len(predict)"
      ],
      "metadata": {
        "id": "dSnRhPEtFBwT",
        "colab": {
          "base_uri": "https://localhost:8080/"
        },
        "outputId": "a3987edd-936b-4e39-a60a-8b7da928be9b"
      },
      "execution_count": null,
      "outputs": [
        {
          "output_type": "execute_result",
          "data": {
            "text/plain": [
              "0.6459"
            ]
          },
          "metadata": {},
          "execution_count": 7
        }
      ]
    },
    {
      "cell_type": "code",
      "source": [
        "predict"
      ],
      "metadata": {
        "colab": {
          "base_uri": "https://localhost:8080/"
        },
        "id": "wYRK4rGwFjm-",
        "outputId": "038c8fdf-c701-4bf1-ee64-57a0dbab1213"
      },
      "execution_count": null,
      "outputs": [
        {
          "output_type": "execute_result",
          "data": {
            "text/plain": [
              "array([7, 6, 1, ..., 4, 7, 5])"
            ]
          },
          "metadata": {},
          "execution_count": 127
        }
      ]
    },
    {
      "cell_type": "code",
      "source": [
        "np.sum(predict==np.argmax(y_test,axis=1))/len(predict)"
      ],
      "metadata": {
        "colab": {
          "base_uri": "https://localhost:8080/"
        },
        "id": "ehOsaJZdFrnV",
        "outputId": "5bdb00d0-7092-4fc0-fdce-c55c2eae7357"
      },
      "execution_count": null,
      "outputs": [
        {
          "output_type": "execute_result",
          "data": {
            "text/plain": [
              "0.4037"
            ]
          },
          "metadata": {},
          "execution_count": 3
        }
      ]
    },
    {
      "cell_type": "code",
      "source": [
        "base_model_block_length[0][0]\n",
        "base_model_block_length"
      ],
      "metadata": {
        "colab": {
          "base_uri": "https://localhost:8080/"
        },
        "id": "Soe9yBFJ-ln6",
        "outputId": "8cf48ce9-3d51-474c-c21a-2fc9c5cf91ca"
      },
      "execution_count": null,
      "outputs": [
        {
          "output_type": "execute_result",
          "data": {
            "text/plain": [
              "array([[[401408, 401408],\n",
              "        [   512,    512]],\n",
              "\n",
              "       [[262144, 262144],\n",
              "        [   512,    512]],\n",
              "\n",
              "       [[262144, 262144],\n",
              "        [   512,    512]],\n",
              "\n",
              "       [[  5120,   5120],\n",
              "        [    10,     10]]])"
            ]
          },
          "metadata": {},
          "execution_count": 85
        }
      ]
    },
    {
      "cell_type": "code",
      "source": [
        "def get_legnth_of_each_variable(shape):\n",
        "  lenght = shape.copy()\n",
        "  for i in range(len(shape)):\n",
        "    for j in range(len(shape[i])):\n",
        "      lenght[i][j] = int(np.prod(shape[i][j]))\n",
        "  return lenght\n",
        "get_legnth_of_each_variable(base_model_shape.tolist())\n",
        "\n"
      ],
      "metadata": {
        "colab": {
          "base_uri": "https://localhost:8080/"
        },
        "id": "nElKuBu699W8",
        "outputId": "84de2ccc-6920-4e85-d961-6f2f6e22e240"
      },
      "execution_count": null,
      "outputs": [
        {
          "output_type": "execute_result",
          "data": {
            "text/plain": [
              "[[401408, 512], [262144, 512], [262144, 512], [5120, 10]]"
            ]
          },
          "metadata": {},
          "execution_count": 92
        }
      ]
    },
    {
      "cell_type": "code",
      "source": [
        "base_model_shape[0][0]"
      ],
      "metadata": {
        "colab": {
          "base_uri": "https://localhost:8080/"
        },
        "id": "QZQ8u4JG9UxM",
        "outputId": "6bc6f299-68d3-4a07-b79b-c49bf4438533"
      },
      "execution_count": null,
      "outputs": [
        {
          "output_type": "execute_result",
          "data": {
            "text/plain": [
              "array([784, 512])"
            ]
          },
          "metadata": {},
          "execution_count": 68
        }
      ]
    },
    {
      "cell_type": "code",
      "source": [
        "base_model_block_length[0][0]\n"
      ],
      "metadata": {
        "colab": {
          "base_uri": "https://localhost:8080/"
        },
        "id": "_JY3mAMB73fj",
        "outputId": "4c04c80c-992f-4503-b6f3-0395ef35a6c5"
      },
      "execution_count": null,
      "outputs": [
        {
          "output_type": "execute_result",
          "data": {
            "text/plain": [
              "array([401408, 401408])"
            ]
          },
          "metadata": {},
          "execution_count": 72
        }
      ]
    },
    {
      "cell_type": "code",
      "source": [
        "base_model_block_length[:,:,0]"
      ],
      "metadata": {
        "colab": {
          "base_uri": "https://localhost:8080/"
        },
        "id": "cHaYb6h69qyZ",
        "outputId": "43b0c733-49a4-4147-d80b-2fad10b1335a"
      },
      "execution_count": null,
      "outputs": [
        {
          "output_type": "execute_result",
          "data": {
            "text/plain": [
              "array([[401408,    512],\n",
              "       [262144,    512],\n",
              "       [262144,    512],\n",
              "       [  5120,     10]])"
            ]
          },
          "metadata": {},
          "execution_count": 74
        }
      ]
    },
    {
      "cell_type": "code",
      "source": [
        "def get_length(shape):\n",
        "  length = 0\n",
        "  for i in shape:\n",
        "    for j in i:\n",
        "      length = length + np.prod(j)\n",
        "  return length\n",
        "\n",
        "base_model_shape = [[[784,base_model_no_of_neurons],[1,base_model_no_of_neurons]],\n",
        "                   [[base_model_no_of_neurons,base_model_no_of_neurons],[1,base_model_no_of_neurons]],\n",
        "                   [[base_model_no_of_neurons,base_model_no_of_neurons],[1,base_model_no_of_neurons]],\n",
        "                   [[base_model_no_of_neurons,1]],\n",
        "                   ]\n",
        "get_length(base_model_shape)"
      ],
      "metadata": {
        "colab": {
          "base_uri": "https://localhost:8080/"
        },
        "id": "HbWEjfHRoLTl",
        "outputId": "82bcc796-b4bc-4d30-801c-965aa1ee3bd0"
      },
      "execution_count": null,
      "outputs": [
        {
          "output_type": "execute_result",
          "data": {
            "text/plain": [
              "927744"
            ]
          },
          "metadata": {},
          "execution_count": 56
        }
      ]
    },
    {
      "cell_type": "code",
      "source": [
        "def get_legnth_of_each_variable(shape):\n",
        "  lenght = shape.copy()\n",
        "  for i in range(len(shape)):\n",
        "    for j in range(len(shape[i])):\n",
        "      lenght[i][j] = np.prod(shape[i][j])\n",
        "  return lenght\n",
        "get_legnth_of_each_variable(base_model_shape)"
      ],
      "metadata": {
        "colab": {
          "base_uri": "https://localhost:8080/"
        },
        "id": "K04XEHHF4jHy",
        "outputId": "41d85674-94e3-4bb4-fc49-f8308cf36453"
      },
      "execution_count": null,
      "outputs": [
        {
          "output_type": "execute_result",
          "data": {
            "text/plain": [
              "[[401408, 512], [262144, 512], [262144, 512], [512]]"
            ]
          },
          "metadata": {},
          "execution_count": 58
        }
      ]
    },
    {
      "cell_type": "code",
      "source": [
        "inputs = tf.concat([y_m,X,Y], axis=1)"
      ],
      "metadata": {
        "id": "QwoWFGgvSEOX"
      },
      "execution_count": null,
      "outputs": []
    },
    {
      "cell_type": "code",
      "source": [
        "inputs.shape"
      ],
      "metadata": {
        "colab": {
          "base_uri": "https://localhost:8080/"
        },
        "id": "wt3o1ARMTN57",
        "outputId": "b48ff2d4-4e73-4919-f095-df516a6e59cd"
      },
      "execution_count": null,
      "outputs": [
        {
          "output_type": "execute_result",
          "data": {
            "text/plain": [
              "TensorShape([60000, 804])"
            ]
          },
          "metadata": {},
          "execution_count": 22
        }
      ]
    },
    {
      "cell_type": "code",
      "source": [
        "plt.style.use('default')\n",
        "plt.plot(loss_hist[290:])\n",
        "plt.show()"
      ],
      "metadata": {
        "colab": {
          "base_uri": "https://localhost:8080/",
          "height": 430
        },
        "id": "DF0crZ2V-e1m",
        "outputId": "0927d21d-3df9-467a-d77c-8800c8c6fda8"
      },
      "execution_count": null,
      "outputs": [
        {
          "output_type": "display_data",
          "data": {
            "text/plain": [
              "<Figure size 640x480 with 1 Axes>"
            ],
            "image/png": "[encoded data removed]"
          },
          "metadata": {}
        }
      ]
    },
    {
      "cell_type": "code",
      "source": [
        "with tf.GradientTape() as g:\n",
        "  g.watch(w)\n",
        "  y_m = f_m(w,X)\n",
        "  y_L = learnable_loss(theta,y_m,X,Y)\n",
        "  d_L_L_d_w = g.gradient(y_L,w)\n",
        "  d_L_L_d_w = convert_to_unit_vector(d_L_L_d_w)\n",
        "with tf.GradientTape() as gg:\n",
        "  gg.watch(w)\n",
        "  y_m = f_m(w,X)\n",
        "  loss = classical_loss(Y,y_m)  \n",
        "  grad = gg.gradient(loss,w) \n",
        "  grad = convert_to_unit_vector(grad)\n",
        "classical_loss(grad,d_L_L_d_w)"
      ],
      "metadata": {
        "colab": {
          "base_uri": "https://localhost:8080/"
        },
        "id": "_kDWSR2xAZrC",
        "outputId": "c2b990c4-d931-43bc-f19e-2a8a74d91572"
      },
      "execution_count": null,
      "outputs": [
        {
          "output_type": "execute_result",
          "data": {
            "text/plain": [
              "<tf.Tensor: shape=(), dtype=float32, numpy=2.3417517e-06>"
            ]
          },
          "metadata": {},
          "execution_count": 9
        }
      ]
    },
    {
      "cell_type": "code",
      "source": [
        "for epoch in range(5000):\n",
        "  #update loss model\n",
        "  for _ in range(1):\n",
        "    with tf.GradientTape() as g:\n",
        "        g.watch(theta)\n",
        "        with tf.GradientTape() as gg:\n",
        "            gg.watch(w)\n",
        "            y_m = f_m(w,X)\n",
        "            y_L = learnable_loss(theta,y_m,X,Y)\n",
        "            G_LL = gg.gradient(y_L,w)\n",
        "            L_L = classical_loss(Y,f_m(w-G_LL,X))\n",
        "            G_LML = g.gradient(L_L,theta)\n",
        "            G_LML = tf.clip_by_value(G_LML,-clip_value,clip_value)\n",
        "            theta = theta - G_LML*0.001 \n",
        "\n",
        "  # update base model\n",
        "  for _ in range(1):\n",
        "    with tf.GradientTape() as g:\n",
        "        g.watch(w)\n",
        "        y_m = f_m(w,X)\n",
        "        y_L = learnable_loss(theta,y_m,X,Y)\n",
        "        d_L_L_d_w = g.gradient(y_L,w)\n",
        "        d_L_L_d_w = tf.clip_by_value(d_L_L_d_w,-clip_value,clip_value)\n",
        "\n",
        "        w = w - d_L_L_d_w*0.001\n",
        "\n",
        "\n",
        "  predict = f_m(w,X)\n",
        "  loss = classical_loss(predict,Y).numpy()\n",
        "  \n",
        "  loss_hist = loss_hist + [loss]\n",
        "  learnable_loss_hist = learnable_loss_hist + [y_L[0][0].numpy()]\n",
        "  theta_hist = theta_hist + [theta.numpy()]\n",
        "  w_hist = w_hist + [w.numpy()]\n",
        "  if epoch % 50 == 0:\n",
        "    print('base model gradient :',tf.reduce_mean(tf.abs(d_L_L_d_w)).numpy(),loss)\n",
        "    print(epoch)\n",
        "\n",
        "plt.style.use('default')\n",
        "plt.plot(loss_hist)\n",
        "plt.show()"
      ],
      "metadata": {
        "id": "TfWA2-rWm8ls"
      },
      "execution_count": null,
      "outputs": []
    }
  ]
}